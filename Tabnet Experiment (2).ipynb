{
 "cells": [
  {
   "cell_type": "code",
   "execution_count": 1,
   "id": "51946271",
   "metadata": {
    "execution": {
     "iopub.execute_input": "2021-09-06T18:49:30.970066Z",
     "iopub.status.busy": "2021-09-06T18:49:30.969710Z",
     "iopub.status.idle": "2021-09-06T18:49:37.607674Z",
     "shell.execute_reply": "2021-09-06T18:49:37.606960Z",
     "shell.execute_reply.started": "2021-09-06T18:49:30.969977Z"
    }
   },
   "outputs": [],
   "source": [
    "!pip install -q sklearn\n",
    "!pip install -q pytorch-tabnet"
   ]
  },
  {
   "cell_type": "markdown",
   "id": "bc52a4c3",
   "metadata": {},
   "source": [
    "# Imports"
   ]
  },
  {
   "cell_type": "code",
   "execution_count": 2,
   "id": "d8187c28",
   "metadata": {
    "execution": {
     "iopub.execute_input": "2021-09-06T18:49:37.609090Z",
     "iopub.status.busy": "2021-09-06T18:49:37.608911Z",
     "iopub.status.idle": "2021-09-06T18:49:39.526090Z",
     "shell.execute_reply": "2021-09-06T18:49:39.525423Z",
     "shell.execute_reply.started": "2021-09-06T18:49:37.609070Z"
    }
   },
   "outputs": [],
   "source": [
    "import pandas as pd\n",
    "import numpy as np\n",
    "import random\n",
    "import os\n",
    "import time\n",
    "\n",
    "import dask\n",
    "from dask_saturn import SaturnCluster\n",
    "from dask.distributed import Client\n",
    "\n",
    "import seaborn as sns\n",
    "import matplotlib.pyplot as plt\n",
    "\n",
    "# import torch\n",
    "from pytorch_tabnet.tab_model import TabNetRegressor\n",
    "\n",
    "from sklearn.model_selection import KFold\n",
    "from sklearn.preprocessing import LabelEncoder\n",
    "\n",
    "from sklearn.metrics import mean_squared_log_error"
   ]
  },
  {
   "cell_type": "code",
   "execution_count": 3,
   "id": "6ca1907d",
   "metadata": {
    "execution": {
     "iopub.execute_input": "2021-09-05T21:46:33.256666Z",
     "iopub.status.busy": "2021-09-05T21:46:33.256487Z",
     "iopub.status.idle": "2021-09-05T21:46:33.974466Z",
     "shell.execute_reply": "2021-09-05T21:46:33.973846Z",
     "shell.execute_reply.started": "2021-09-05T21:46:33.256648Z"
    }
   },
   "outputs": [
    {
     "name": "stderr",
     "output_type": "stream",
     "text": [
      "INFO:dask-saturn:Cluster is ready\n",
      "INFO:dask-saturn:Registering default plugins\n",
      "INFO:dask-saturn:Success!\n"
     ]
    },
    {
     "data": {
      "text/html": [
       "<table style=\"border: 2px solid white;\">\n",
       "<tr>\n",
       "<td style=\"vertical-align: top; border: 0px solid white\">\n",
       "<h3 style=\"text-align: left;\">Client</h3>\n",
       "<ul style=\"text-align: left; list-style: none; margin: 0; padding: 0;\">\n",
       "  <li><b>Scheduler: </b>tcp://d-natha-pytorch-387c83827a0847898c7ae2605dbeb461.main-namespace:8786</li>\n",
       "  <li><b>Dashboard: </b><a href='https://d-natha-pytorch-387c83827a0847898c7ae2605dbeb461.community.saturnenterprise.io' target='_blank'>https://d-natha-pytorch-387c83827a0847898c7ae2605dbeb461.community.saturnenterprise.io</a></li>\n",
       "</ul>\n",
       "</td>\n",
       "<td style=\"vertical-align: top; border: 0px solid white\">\n",
       "<h3 style=\"text-align: left;\">Cluster</h3>\n",
       "<ul style=\"text-align: left; list-style:none; margin: 0; padding: 0;\">\n",
       "  <li><b>Workers: </b>3</li>\n",
       "  <li><b>Cores: </b>12</li>\n",
       "  <li><b>Memory: </b>43.31 GiB</li>\n",
       "</ul>\n",
       "</td>\n",
       "</tr>\n",
       "</table>"
      ],
      "text/plain": [
       "<Client: 'tcp://192.168.226.3:8786' processes=3 threads=12, memory=43.31 GiB>"
      ]
     },
     "execution_count": 3,
     "metadata": {},
     "output_type": "execute_result"
    }
   ],
   "source": [
    "cluster = SaturnCluster()\n",
    "client = Client(cluster)\n",
    "client"
   ]
  },
  {
   "cell_type": "code",
   "execution_count": 4,
   "id": "a3b430be",
   "metadata": {
    "execution": {
     "iopub.execute_input": "2021-09-05T21:46:33.976295Z",
     "iopub.status.busy": "2021-09-05T21:46:33.976038Z",
     "iopub.status.idle": "2021-09-05T21:46:38.211473Z",
     "shell.execute_reply": "2021-09-05T21:46:38.210788Z",
     "shell.execute_reply.started": "2021-09-05T21:46:33.976263Z"
    }
   },
   "outputs": [
    {
     "data": {
      "text/plain": [
       "{'tcp://192.168.125.68:34593': None,\n",
       " 'tcp://192.168.190.132:38751': None,\n",
       " 'tcp://192.168.248.74:45189': None}"
      ]
     },
     "execution_count": 4,
     "metadata": {},
     "output_type": "execute_result"
    }
   ],
   "source": [
    "def install():\n",
    "    os.system(\"pip install -q pytorch-tabnet\")\n",
    "    \n",
    "client.run(install)"
   ]
  },
  {
   "cell_type": "markdown",
   "id": "4fc4b680",
   "metadata": {},
   "source": [
    "# Load Data"
   ]
  },
  {
   "cell_type": "code",
   "execution_count": 3,
   "id": "6d6ea0df",
   "metadata": {
    "execution": {
     "iopub.execute_input": "2021-09-06T18:49:39.528011Z",
     "iopub.status.busy": "2021-09-06T18:49:39.527571Z",
     "iopub.status.idle": "2021-09-06T18:49:43.699176Z",
     "shell.execute_reply": "2021-09-06T18:49:43.698633Z",
     "shell.execute_reply.started": "2021-09-06T18:49:39.527794Z"
    }
   },
   "outputs": [],
   "source": [
    "train = pd.read_csv('train.csv',\n",
    "                    parse_dates=['pickup_datetime', 'dropoff_datetime'],\n",
    "                   )"
   ]
  },
  {
   "cell_type": "code",
   "execution_count": 4,
   "id": "08f8bf71",
   "metadata": {
    "execution": {
     "iopub.execute_input": "2021-09-06T18:49:43.700713Z",
     "iopub.status.busy": "2021-09-06T18:49:43.700473Z",
     "iopub.status.idle": "2021-09-06T18:49:44.939599Z",
     "shell.execute_reply": "2021-09-06T18:49:44.939060Z",
     "shell.execute_reply.started": "2021-09-06T18:49:43.700683Z"
    }
   },
   "outputs": [],
   "source": [
    "test = pd.read_csv('test.csv',\n",
    "                    parse_dates=['pickup_datetime'],\n",
    "                   )"
   ]
  },
  {
   "cell_type": "code",
   "execution_count": 5,
   "id": "6b83ce18",
   "metadata": {
    "execution": {
     "iopub.execute_input": "2021-09-06T18:49:44.940950Z",
     "iopub.status.busy": "2021-09-06T18:49:44.940692Z",
     "iopub.status.idle": "2021-09-06T18:49:45.011733Z",
     "shell.execute_reply": "2021-09-06T18:49:45.011155Z",
     "shell.execute_reply.started": "2021-09-06T18:49:44.940921Z"
    }
   },
   "outputs": [],
   "source": [
    "train = train.drop(columns = 'dropoff_datetime')"
   ]
  },
  {
   "cell_type": "markdown",
   "id": "1363fdba",
   "metadata": {},
   "source": [
    "# Outliers"
   ]
  },
  {
   "cell_type": "code",
   "execution_count": 7,
   "id": "89b9e810",
   "metadata": {
    "execution": {
     "iopub.execute_input": "2021-09-06T18:49:45.033550Z",
     "iopub.status.busy": "2021-09-06T18:49:45.033391Z",
     "iopub.status.idle": "2021-09-06T18:49:45.204988Z",
     "shell.execute_reply": "2021-09-06T18:49:45.204472Z",
     "shell.execute_reply.started": "2021-09-06T18:49:45.033532Z"
    }
   },
   "outputs": [
    {
     "data": {
      "text/plain": [
       "<AxesSubplot:ylabel='trip_duration'>"
      ]
     },
     "execution_count": 7,
     "metadata": {},
     "output_type": "execute_result"
    },
    {
     "data": {
      "image/png": "[encoded data removed]",
      "text/plain": [
       "<Figure size 432x288 with 1 Axes>"
      ]
     },
     "metadata": {
      "needs_background": "light"
     },
     "output_type": "display_data"
    }
   ],
   "source": [
    "sns.boxplot(data = train, y = 'trip_duration')"
   ]
  },
  {
   "cell_type": "code",
   "execution_count": 8,
   "id": "45d21d0e",
   "metadata": {
    "execution": {
     "iopub.execute_input": "2021-09-06T18:49:45.206767Z",
     "iopub.status.busy": "2021-09-06T18:49:45.206602Z",
     "iopub.status.idle": "2021-09-06T18:49:45.348412Z",
     "shell.execute_reply": "2021-09-06T18:49:45.347739Z",
     "shell.execute_reply.started": "2021-09-06T18:49:45.206749Z"
    }
   },
   "outputs": [],
   "source": [
    "#Only keep trips that lasted less than 5000 seconds\n",
    "train = train[train['trip_duration'] < 5000]"
   ]
  },
  {
   "cell_type": "code",
   "execution_count": 9,
   "id": "c18777f2",
   "metadata": {
    "execution": {
     "iopub.execute_input": "2021-09-06T18:49:45.350826Z",
     "iopub.status.busy": "2021-09-06T18:49:45.350641Z",
     "iopub.status.idle": "2021-09-06T18:49:45.435788Z",
     "shell.execute_reply": "2021-09-06T18:49:45.435073Z",
     "shell.execute_reply.started": "2021-09-06T18:49:45.350807Z"
    }
   },
   "outputs": [],
   "source": [
    "#Only keep trips with passengers\n",
    "train = train[train['passenger_count'] > 0]"
   ]
  },
  {
   "cell_type": "code",
   "execution_count": 10,
   "id": "c11c1a4b",
   "metadata": {
    "execution": {
     "iopub.execute_input": "2021-09-06T18:49:45.436856Z",
     "iopub.status.busy": "2021-09-06T18:49:45.436683Z",
     "iopub.status.idle": "2021-09-06T18:49:47.868533Z",
     "shell.execute_reply": "2021-09-06T18:49:47.867862Z",
     "shell.execute_reply.started": "2021-09-06T18:49:45.436836Z"
    }
   },
   "outputs": [
    {
     "data": {
      "text/plain": [
       "<AxesSubplot:xlabel='pickup_latitude', ylabel='pickup_longitude'>"
      ]
     },
     "execution_count": 10,
     "metadata": {},
     "output_type": "execute_result"
    },
    {
     "data": {
      "image/png": "[encoded data removed]",
      "text/plain": [
       "<Figure size 432x288 with 1 Axes>"
      ]
     },
     "metadata": {
      "needs_background": "light"
     },
     "output_type": "display_data"
    }
   ],
   "source": [
    "sns.scatterplot(data = train, x = 'pickup_latitude', y = 'pickup_longitude')"
   ]
  },
  {
   "cell_type": "code",
   "execution_count": 11,
   "id": "4a7aa2ae",
   "metadata": {
    "execution": {
     "iopub.execute_input": "2021-09-06T18:49:47.870004Z",
     "iopub.status.busy": "2021-09-06T18:49:47.869640Z",
     "iopub.status.idle": "2021-09-06T18:49:48.058051Z",
     "shell.execute_reply": "2021-09-06T18:49:48.057499Z",
     "shell.execute_reply.started": "2021-09-06T18:49:47.869969Z"
    }
   },
   "outputs": [],
   "source": [
    "train = train[train['pickup_latitude'] < 50]\n",
    "train = train[train['pickup_longitude'] > -100]"
   ]
  },
  {
   "cell_type": "markdown",
   "id": "5f81d511",
   "metadata": {},
   "source": [
    "# Feature Processing and Engineering"
   ]
  },
  {
   "cell_type": "code",
   "execution_count": 12,
   "id": "5607f77e",
   "metadata": {
    "execution": {
     "iopub.execute_input": "2021-09-06T18:49:48.059325Z",
     "iopub.status.busy": "2021-09-06T18:49:48.058967Z",
     "iopub.status.idle": "2021-09-06T18:49:48.545457Z",
     "shell.execute_reply": "2021-09-06T18:49:48.544879Z",
     "shell.execute_reply.started": "2021-09-06T18:49:48.059292Z"
    }
   },
   "outputs": [
    {
     "name": "stdout",
     "output_type": "stream",
     "text": [
      "vendor_id 2\n",
      "store_and_fwd_flag 2\n"
     ]
    }
   ],
   "source": [
    "categorical_columns = []\n",
    "categorical_dims =  {}\n",
    "for col in ['vendor_id', 'store_and_fwd_flag']:\n",
    "    print(col, train[col].nunique())\n",
    "    l_enc = LabelEncoder()\n",
    "    train[col] = l_enc.fit_transform(train[col].values)\n",
    "    test[col] = l_enc.transform(test[col].values)\n",
    "    categorical_columns.append(col)\n",
    "    categorical_dims[col] = len(l_enc.classes_)"
   ]
  },
  {
   "cell_type": "code",
   "execution_count": 13,
   "id": "cea0b50f",
   "metadata": {
    "execution": {
     "iopub.execute_input": "2021-09-06T18:49:48.546606Z",
     "iopub.status.busy": "2021-09-06T18:49:48.546339Z",
     "iopub.status.idle": "2021-09-06T18:49:50.303854Z",
     "shell.execute_reply": "2021-09-06T18:49:50.303305Z",
     "shell.execute_reply.started": "2021-09-06T18:49:48.546577Z"
    }
   },
   "outputs": [],
   "source": [
    "train['month'] = train.pickup_datetime.dt.month\n",
    "train['week'] = train.pickup_datetime.dt.isocalendar().week\n",
    "train['weekday'] = train.pickup_datetime.dt.isocalendar().day\n",
    "train['hour'] = train.pickup_datetime.dt.hour\n",
    "train['minute'] = train.pickup_datetime.dt.minute\n",
    "train['minute_oftheday'] = train['hour'] * 60 + train['minute']\n",
    "train = train.drop(columns = ['minute'])\n",
    "\n",
    "test['month'] = test.pickup_datetime.dt.month\n",
    "test['week'] = test.pickup_datetime.dt.isocalendar().week\n",
    "test['weekday'] = test.pickup_datetime.dt.isocalendar().day\n",
    "test['hour'] = test.pickup_datetime.dt.hour\n",
    "test['minute'] = test.pickup_datetime.dt.minute\n",
    "test['minute_oftheday'] = test['hour'] * 60 + test['minute']\n",
    "test = test.drop(columns = ['minute'])\n",
    "\n",
    "train = train.drop(columns = ['pickup_datetime'])\n",
    "test = test.drop(columns = ['pickup_datetime'])"
   ]
  },
  {
   "cell_type": "code",
   "execution_count": 14,
   "id": "4fcce33f",
   "metadata": {
    "execution": {
     "iopub.execute_input": "2021-09-06T18:49:50.305534Z",
     "iopub.status.busy": "2021-09-06T18:49:50.305347Z",
     "iopub.status.idle": "2021-09-06T18:49:50.466253Z",
     "shell.execute_reply": "2021-09-06T18:49:50.465483Z",
     "shell.execute_reply.started": "2021-09-06T18:49:50.305515Z"
    }
   },
   "outputs": [],
   "source": [
    "def ft_haversine_distance(lat1, lng1, lat2, lng2):\n",
    "    lat1, lng1, lat2, lng2 = map(np.radians, (lat1, lng1, lat2, lng2))\n",
    "    AVG_EARTH_RADIUS = 6371 #km\n",
    "    lat = lat2 - lat1\n",
    "    lng = lng2 - lng1\n",
    "    d = np.sin(lat * 0.5) ** 2 + np.cos(lat1) * np.cos(lat2) * np.sin(lng * 0.5) ** 2\n",
    "    h = 2 * AVG_EARTH_RADIUS * np.arcsin(np.sqrt(d))\n",
    "    return h\n",
    "\n",
    "#Add distance feature\n",
    "train['distance'] = ft_haversine_distance(train['pickup_latitude'].values,\n",
    "                                          train['pickup_longitude'].values, \n",
    "                                          train['dropoff_latitude'].values,\n",
    "                                          train['dropoff_longitude'].values)\n",
    "\n",
    "test['distance'] = ft_haversine_distance(test['pickup_latitude'].values, \n",
    "                                         test['pickup_longitude'].values, \n",
    "                                         test['dropoff_latitude'].values, \n",
    "                                         test['dropoff_longitude'].values)"
   ]
  },
  {
   "cell_type": "code",
   "execution_count": 15,
   "id": "78f10106",
   "metadata": {
    "execution": {
     "iopub.execute_input": "2021-09-06T18:49:50.467553Z",
     "iopub.status.busy": "2021-09-06T18:49:50.467323Z",
     "iopub.status.idle": "2021-09-06T18:49:50.777916Z",
     "shell.execute_reply": "2021-09-06T18:49:50.777386Z",
     "shell.execute_reply.started": "2021-09-06T18:49:50.467526Z"
    }
   },
   "outputs": [],
   "source": [
    "def ft_degree(lat1, lng1, lat2, lng2):\n",
    "    AVG_EARTH_RADIUS = 6371 #km\n",
    "    lng_delta_rad = np.radians(lng2 - lng1)\n",
    "    lat1, lng1, lat2, lng2 = map(np.radians, (lat1, lng1, lat2, lng2))\n",
    "    y = np.sin(lng_delta_rad) * np.cos(lat2)\n",
    "    x = np.cos(lat1) * np.sin(lat2) - np.sin(lat1) * np.cos(lat2) * np.cos(lng_delta_rad)\n",
    "    return np.degrees(np.arctan2(y, x))\n",
    "\n",
    "train['direction'] = ft_degree(train['pickup_latitude'].values,\n",
    "                               train['pickup_longitude'].values,\n",
    "                               train['dropoff_latitude'].values,\n",
    "                               train['dropoff_longitude'].values)\n",
    "\n",
    "test['direction'] = ft_degree(test['pickup_latitude'].values,\n",
    "                              test['pickup_longitude'].values, \n",
    "                              test['dropoff_latitude'].values,\n",
    "                              test['dropoff_longitude'].values)"
   ]
  },
  {
   "cell_type": "code",
   "execution_count": 6,
   "id": "2a3d20a8",
   "metadata": {
    "execution": {
     "iopub.execute_input": "2021-09-06T18:49:45.012767Z",
     "iopub.status.busy": "2021-09-06T18:49:45.012593Z",
     "iopub.status.idle": "2021-09-06T18:49:45.032603Z",
     "shell.execute_reply": "2021-09-06T18:49:45.032081Z",
     "shell.execute_reply.started": "2021-09-06T18:49:45.012748Z"
    }
   },
   "outputs": [],
   "source": [
    "train['trip_duration'] = np.log(train['trip_duration'].values)"
   ]
  },
  {
   "cell_type": "markdown",
   "id": "fc34751a",
   "metadata": {},
   "source": [
    "# Outliers Part 2"
   ]
  },
  {
   "cell_type": "code",
   "execution_count": 16,
   "id": "a373b08b",
   "metadata": {
    "execution": {
     "iopub.execute_input": "2021-09-06T18:49:50.778847Z",
     "iopub.status.busy": "2021-09-06T18:49:50.778686Z",
     "iopub.status.idle": "2021-09-06T18:49:51.124847Z",
     "shell.execute_reply": "2021-09-06T18:49:51.124126Z",
     "shell.execute_reply.started": "2021-09-06T18:49:50.778829Z"
    }
   },
   "outputs": [
    {
     "data": {
      "text/plain": [
       "<AxesSubplot:ylabel='distance'>"
      ]
     },
     "execution_count": 16,
     "metadata": {},
     "output_type": "execute_result"
    },
    {
     "data": {
      "image/png": "[encoded data removed]",
      "text/plain": [
       "<Figure size 432x288 with 1 Axes>"
      ]
     },
     "metadata": {
      "needs_background": "light"
     },
     "output_type": "display_data"
    }
   ],
   "source": [
    "sns.boxplot(data = train, y = 'distance')"
   ]
  },
  {
   "cell_type": "code",
   "execution_count": 17,
   "id": "3a59d27c",
   "metadata": {
    "execution": {
     "iopub.execute_input": "2021-09-06T18:49:51.126263Z",
     "iopub.status.busy": "2021-09-06T18:49:51.126007Z",
     "iopub.status.idle": "2021-09-06T18:49:51.317159Z",
     "shell.execute_reply": "2021-09-06T18:49:51.316594Z",
     "shell.execute_reply.started": "2021-09-06T18:49:51.126231Z"
    }
   },
   "outputs": [],
   "source": [
    "train = train[train['distance'] < 200]"
   ]
  },
  {
   "cell_type": "code",
   "execution_count": 18,
   "id": "59d1ebd5",
   "metadata": {
    "execution": {
     "iopub.execute_input": "2021-09-06T18:49:51.318173Z",
     "iopub.status.busy": "2021-09-06T18:49:51.318002Z",
     "iopub.status.idle": "2021-09-06T18:49:51.328248Z",
     "shell.execute_reply": "2021-09-06T18:49:51.327690Z",
     "shell.execute_reply.started": "2021-09-06T18:49:51.318153Z"
    }
   },
   "outputs": [],
   "source": [
    "train['speed'] = train['distance'] / train['trip_duration']"
   ]
  },
  {
   "cell_type": "code",
   "execution_count": 19,
   "id": "669d9bf7",
   "metadata": {
    "execution": {
     "iopub.execute_input": "2021-09-06T18:49:51.329195Z",
     "iopub.status.busy": "2021-09-06T18:49:51.329036Z",
     "iopub.status.idle": "2021-09-06T18:49:51.664304Z",
     "shell.execute_reply": "2021-09-06T18:49:51.663712Z",
     "shell.execute_reply.started": "2021-09-06T18:49:51.329176Z"
    }
   },
   "outputs": [
    {
     "data": {
      "text/plain": [
       "<AxesSubplot:ylabel='speed'>"
      ]
     },
     "execution_count": 19,
     "metadata": {},
     "output_type": "execute_result"
    },
    {
     "data": {
      "image/png": "[encoded data removed]",
      "text/plain": [
       "<Figure size 432x288 with 1 Axes>"
      ]
     },
     "metadata": {
      "needs_background": "light"
     },
     "output_type": "display_data"
    }
   ],
   "source": [
    "sns.boxplot(data = train, y = 'speed')"
   ]
  },
  {
   "cell_type": "code",
   "execution_count": 20,
   "id": "7b5fde82",
   "metadata": {
    "execution": {
     "iopub.execute_input": "2021-09-06T18:49:51.665693Z",
     "iopub.status.busy": "2021-09-06T18:49:51.665320Z",
     "iopub.status.idle": "2021-09-06T18:49:51.931376Z",
     "shell.execute_reply": "2021-09-06T18:49:51.930832Z",
     "shell.execute_reply.started": "2021-09-06T18:49:51.665659Z"
    }
   },
   "outputs": [],
   "source": [
    "train = train[train['speed'] < 30]\n",
    "train = train.drop(columns = ['speed'])"
   ]
  },
  {
   "cell_type": "code",
   "execution_count": 21,
   "id": "1104b9d2",
   "metadata": {
    "execution": {
     "iopub.execute_input": "2021-09-06T18:49:51.932748Z",
     "iopub.status.busy": "2021-09-06T18:49:51.932379Z",
     "iopub.status.idle": "2021-09-06T18:49:52.284507Z",
     "shell.execute_reply": "2021-09-06T18:49:52.283851Z",
     "shell.execute_reply.started": "2021-09-06T18:49:51.932716Z"
    }
   },
   "outputs": [],
   "source": [
    "train = train.reset_index().drop(columns = 'index')\n",
    "test = test.reset_index().drop(columns = 'index')"
   ]
  },
  {
   "cell_type": "markdown",
   "id": "d39371b0",
   "metadata": {},
   "source": [
    "# Modeling"
   ]
  },
  {
   "cell_type": "code",
   "execution_count": 23,
   "id": "e27bf081",
   "metadata": {
    "execution": {
     "iopub.execute_input": "2021-09-06T18:50:56.507549Z",
     "iopub.status.busy": "2021-09-06T18:50:56.507323Z",
     "iopub.status.idle": "2021-09-06T18:50:56.511582Z",
     "shell.execute_reply": "2021-09-06T18:50:56.510837Z",
     "shell.execute_reply.started": "2021-09-06T18:50:56.507528Z"
    }
   },
   "outputs": [],
   "source": [
    "target_column = 'trip_duration'\n",
    "\n",
    "unused_features = ['id']\n",
    "\n",
    "feature_columns = [col for col in train.columns if col not in unused_features+[target_column]]\n",
    "\n",
    "cat_idxs = [ i for i, f in enumerate(feature_columns) if f in categorical_columns]\n",
    "\n",
    "cat_dims = [ categorical_dims[f] for i, f in enumerate(feature_columns) if f in categorical_columns]"
   ]
  },
  {
   "cell_type": "code",
   "execution_count": 38,
   "id": "7a8fe4fa",
   "metadata": {
    "execution": {
     "iopub.execute_input": "2021-09-06T01:58:25.921499Z",
     "iopub.status.busy": "2021-09-06T01:58:25.921280Z",
     "iopub.status.idle": "2021-09-06T01:58:25.924610Z",
     "shell.execute_reply": "2021-09-06T01:58:25.923920Z",
     "shell.execute_reply.started": "2021-09-06T01:58:25.921475Z"
    }
   },
   "outputs": [],
   "source": [
    "MODEL_DIR = './model'\n",
    "\n",
    "IS_TRAIN = True\n",
    "SKIP_EXISTING_TRIALS = True\n",
    "\n",
    "NFOLDS = 5 # 10\n",
    "NSEEDS = 1 # 3"
   ]
  },
  {
   "cell_type": "code",
   "execution_count": 25,
   "id": "2b8db07c",
   "metadata": {
    "execution": {
     "iopub.execute_input": "2021-09-05T21:46:50.435539Z",
     "iopub.status.busy": "2021-09-05T21:46:50.435301Z",
     "iopub.status.idle": "2021-09-05T21:46:50.446032Z",
     "shell.execute_reply": "2021-09-05T21:46:50.445563Z",
     "shell.execute_reply.started": "2021-09-05T21:46:50.435511Z"
    }
   },
   "outputs": [],
   "source": [
    "@dask.delayed\n",
    "def run_training_tabnet(train, test, t_idx, v_idx, cat_idxs, cat_dims, fold, seed, filename = 'tabnet'):\n",
    "    ## Important\n",
    "    import torch\n",
    "    \n",
    "    train_df = train.loc[t_idx,:].reset_index(drop=True)\n",
    "    valid_df = train.loc[v_idx,:].reset_index(drop=True)\n",
    "\n",
    "    x_train, y_train  = train_df[feature_columns].values.astype(float), train_df[target_column].values.reshape(-1, 1).astype(float)\n",
    "    x_valid, y_valid =  valid_df[feature_columns].values.astype(float), valid_df[target_column].values.reshape(-1, 1).astype(float)\n",
    "    x_test = test[feature_columns].values.astype(float)\n",
    "    \n",
    "    random.seed(seed)\n",
    "    np.random.seed(seed)\n",
    "    torch.manual_seed(seed)\n",
    "    os.environ['PYTHONHASHSEED'] = str(seed)\n",
    "\n",
    "    if torch.cuda.is_available(): \n",
    "        torch.cuda.manual_seed(seed)\n",
    "        torch.cuda.manual_seed_all(seed)\n",
    "        torch.backends.cudnn.deterministic = True\n",
    "        torch.backends.cudnn.benchmark = False\n",
    "        \n",
    "        \n",
    "    model = TabNetRegressor(n_d=32, \n",
    "                            n_a=32, \n",
    "                            n_steps=1, \n",
    "                            lambda_sparse=0,\n",
    "                            cat_dims=cat_dims, \n",
    "                            cat_emb_dim=1, \n",
    "                            cat_idxs=cat_idxs,\n",
    "                            optimizer_fn=torch.optim.Adam, \n",
    "                            optimizer_params=dict(lr=2e-2, weight_decay=1e-5),\n",
    "                            mask_type='entmax',\n",
    "                            scheduler_params=dict(milestones=[100, 150], gamma=0.9),\n",
    "                            scheduler_fn=torch.optim.lr_scheduler.MultiStepLR,\n",
    "                            verbose=1,\n",
    "                            seed = seed)\n",
    "    \n",
    "    model.fit(X_train=x_train, \n",
    "                  y_train=y_train,\n",
    "                  eval_set=[(x_valid, y_valid)],\n",
    "                  eval_metric=['rmsle'],\n",
    "                  max_epochs=100, \n",
    "                  patience=5, \n",
    "                  batch_size=1024, \n",
    "                  virtual_batch_size=128,\n",
    "                  num_workers=0, \n",
    "                  drop_last=False\n",
    "                  )\n",
    "    \n",
    "    model.save_model(f\"{MODEL_DIR}/{filename}_SEED{seed}_FOLD{fold}\")\n",
    "    \n",
    "    \n",
    "    valid_preds = model.predict(x_valid)\n",
    "    \n",
    "    oof = np.zeros((len(train),1))    \n",
    "    oof[v_idx] = valid_preds\n",
    "        \n",
    "    predictions = model.predict(x_test)\n",
    "    \n",
    "    return oof, predictions"
   ]
  },
  {
   "cell_type": "code",
   "execution_count": 26,
   "id": "c248e435",
   "metadata": {
    "execution": {
     "iopub.execute_input": "2021-09-05T21:46:50.446869Z",
     "iopub.status.busy": "2021-09-05T21:46:50.446702Z",
     "iopub.status.idle": "2021-09-05T21:46:50.451652Z",
     "shell.execute_reply": "2021-09-05T21:46:50.451133Z",
     "shell.execute_reply.started": "2021-09-05T21:46:50.446852Z"
    }
   },
   "outputs": [],
   "source": [
    "def run_k_fold_training(train, test, feature_columns, target_column, cat_idxs, cat_dims, NFOLDS, NSEEDS):    \n",
    "    seed_list = range(NSEEDS)\n",
    "    \n",
    "    results = []\n",
    "    \n",
    "    for seed in seed_list:\n",
    "        \n",
    "        kf = KFold(n_splits=NFOLDS, shuffle=True, random_state = seed)\n",
    "        \n",
    "        for f, (t_idx, v_idx) in enumerate(kf.split(X=train[feature_columns], y=train[target_column])):\n",
    "\n",
    "            \n",
    "            train_scatterd = client.scatter(train)\n",
    "            test_scattered = client.scatter(test)\n",
    "\n",
    "            results.append(run_training_tabnet(train_scatterd, test_scattered, t_idx, v_idx, cat_idxs, cat_dims, f, seed))\n",
    "            \n",
    "#             results.append(run_training_tabnet(train, test, t_idx, v_idx, cat_idxs, cat_dims, f, seed))\n",
    "        \n",
    "    return(results)"
   ]
  },
  {
   "cell_type": "code",
   "execution_count": 27,
   "id": "bf79f028",
   "metadata": {
    "execution": {
     "iopub.execute_input": "2021-09-05T21:46:50.452492Z",
     "iopub.status.busy": "2021-09-05T21:46:50.452331Z",
     "iopub.status.idle": "2021-09-05T21:47:23.716931Z",
     "shell.execute_reply": "2021-09-05T21:47:23.716017Z",
     "shell.execute_reply.started": "2021-09-05T21:46:50.452475Z"
    }
   },
   "outputs": [],
   "source": [
    "result = run_k_fold_training(train, test, feature_columns, target_column, cat_idxs, cat_dims, NFOLDS, NSEEDS)"
   ]
  },
  {
   "cell_type": "code",
   "execution_count": null,
   "id": "080d7c57",
   "metadata": {},
   "outputs": [],
   "source": [
    "results = dask.compute(result)"
   ]
  },
  {
   "cell_type": "code",
   "execution_count": null,
   "id": "70e7bcf6",
   "metadata": {
    "execution": {
     "iopub.execute_input": "2021-09-05T23:21:35.015772Z",
     "iopub.status.busy": "2021-09-05T23:21:35.015518Z",
     "iopub.status.idle": "2021-09-05T23:21:35.263443Z"
    }
   },
   "outputs": [
    {
     "name": "stderr",
     "output_type": "stream",
     "text": [
      "/srv/conda/envs/saturn/lib/python3.9/site-packages/numpy/core/_asarray.py:171: VisibleDeprecationWarning: Creating an ndarray from ragged nested sequences (which is a list-or-tuple of lists-or-tuples-or ndarrays with different lengths or shapes) is deprecated. If you meant to do this, you must specify 'dtype=object' when creating the ndarray.\n",
      "  return array(a, dtype, copy=False, order=order, subok=True)\n"
     ]
    }
   ],
   "source": [
    "np.save('results', results)"
   ]
  },
  {
   "cell_type": "code",
   "execution_count": 22,
   "id": "724a19c6",
   "metadata": {
    "execution": {
     "iopub.execute_input": "2021-09-06T01:54:42.714616Z",
     "iopub.status.busy": "2021-09-06T01:54:42.714381Z",
     "iopub.status.idle": "2021-09-06T01:54:43.331868Z",
     "shell.execute_reply": "2021-09-06T01:54:43.331304Z",
     "shell.execute_reply.started": "2021-09-06T01:54:42.714591Z"
    }
   },
   "outputs": [],
   "source": [
    "results = np.load('results.npy', allow_pickle = True)"
   ]
  },
  {
   "cell_type": "code",
   "execution_count": null,
   "id": "c627d4d2",
   "metadata": {},
   "outputs": [],
   "source": [
    "oof = np.zeros((len(train),1))\n",
    "prediction = np.zeros((len(test),1))\n",
    "\n",
    "for result in results[0]:\n",
    "    oof += result[0]\n",
    "    prediction += result[1]\n",
    "    \n",
    "oof = oof/NSEEDS\n",
    "prediction = prediction/NFOLDS/NSEEDS"
   ]
  },
  {
   "cell_type": "code",
   "execution_count": 43,
   "id": "986e606a",
   "metadata": {
    "execution": {
     "iopub.execute_input": "2021-09-06T02:01:47.908757Z",
     "iopub.status.busy": "2021-09-06T02:01:47.908523Z",
     "iopub.status.idle": "2021-09-06T02:01:47.977207Z",
     "shell.execute_reply": "2021-09-06T02:01:47.976472Z",
     "shell.execute_reply.started": "2021-09-06T02:01:47.908733Z"
    }
   },
   "outputs": [
    {
     "data": {
      "text/plain": [
       "0.15698218381731546"
      ]
     },
     "execution_count": 43,
     "metadata": {},
     "output_type": "execute_result"
    }
   ],
   "source": [
    "mean_squared_log_error(train[target_column], oof)"
   ]
  },
  {
   "cell_type": "code",
   "execution_count": 58,
   "id": "935149b3",
   "metadata": {
    "execution": {
     "iopub.execute_input": "2021-09-06T02:12:01.563358Z",
     "iopub.status.busy": "2021-09-06T02:12:01.563127Z",
     "iopub.status.idle": "2021-09-06T02:12:01.573138Z",
     "shell.execute_reply": "2021-09-06T02:12:01.572546Z",
     "shell.execute_reply.started": "2021-09-06T02:12:01.563336Z"
    }
   },
   "outputs": [],
   "source": [
    "submission = pd.DataFrame({'id': test['id'].values, 'trip_duration': pd.DataFrame(prediction)[0]})"
   ]
  },
  {
   "cell_type": "code",
   "execution_count": 59,
   "id": "0e432a5c",
   "metadata": {
    "execution": {
     "iopub.execute_input": "2021-09-06T02:12:02.284081Z",
     "iopub.status.busy": "2021-09-06T02:12:02.283889Z",
     "iopub.status.idle": "2021-09-06T02:12:02.292965Z",
     "shell.execute_reply": "2021-09-06T02:12:02.292304Z",
     "shell.execute_reply.started": "2021-09-06T02:12:02.284060Z"
    }
   },
   "outputs": [
    {
     "data": {
      "text/html": [
       "<div>\n",
       "<style scoped>\n",
       "    .dataframe tbody tr th:only-of-type {\n",
       "        vertical-align: middle;\n",
       "    }\n",
       "\n",
       "    .dataframe tbody tr th {\n",
       "        vertical-align: top;\n",
       "    }\n",
       "\n",
       "    .dataframe thead th {\n",
       "        text-align: right;\n",
       "    }\n",
       "</style>\n",
       "<table border=\"1\" class=\"dataframe\">\n",
       "  <thead>\n",
       "    <tr style=\"text-align: right;\">\n",
       "      <th></th>\n",
       "      <th>id</th>\n",
       "      <th>trip_duration</th>\n",
       "    </tr>\n",
       "  </thead>\n",
       "  <tbody>\n",
       "    <tr>\n",
       "      <th>0</th>\n",
       "      <td>id3004672</td>\n",
       "      <td>890.489380</td>\n",
       "    </tr>\n",
       "    <tr>\n",
       "      <th>1</th>\n",
       "      <td>id3505355</td>\n",
       "      <td>693.313774</td>\n",
       "    </tr>\n",
       "    <tr>\n",
       "      <th>2</th>\n",
       "      <td>id1217141</td>\n",
       "      <td>456.643697</td>\n",
       "    </tr>\n",
       "    <tr>\n",
       "      <th>3</th>\n",
       "      <td>id2150126</td>\n",
       "      <td>1017.616895</td>\n",
       "    </tr>\n",
       "    <tr>\n",
       "      <th>4</th>\n",
       "      <td>id1598245</td>\n",
       "      <td>429.000618</td>\n",
       "    </tr>\n",
       "    <tr>\n",
       "      <th>...</th>\n",
       "      <td>...</td>\n",
       "      <td>...</td>\n",
       "    </tr>\n",
       "    <tr>\n",
       "      <th>625129</th>\n",
       "      <td>id3008929</td>\n",
       "      <td>380.426935</td>\n",
       "    </tr>\n",
       "    <tr>\n",
       "      <th>625130</th>\n",
       "      <td>id3700764</td>\n",
       "      <td>1290.492025</td>\n",
       "    </tr>\n",
       "    <tr>\n",
       "      <th>625131</th>\n",
       "      <td>id2568735</td>\n",
       "      <td>1545.446989</td>\n",
       "    </tr>\n",
       "    <tr>\n",
       "      <th>625132</th>\n",
       "      <td>id1384355</td>\n",
       "      <td>2077.156820</td>\n",
       "    </tr>\n",
       "    <tr>\n",
       "      <th>625133</th>\n",
       "      <td>id0621643</td>\n",
       "      <td>1250.492334</td>\n",
       "    </tr>\n",
       "  </tbody>\n",
       "</table>\n",
       "<p>625134 rows × 2 columns</p>\n",
       "</div>"
      ],
      "text/plain": [
       "               id  trip_duration\n",
       "0       id3004672     890.489380\n",
       "1       id3505355     693.313774\n",
       "2       id1217141     456.643697\n",
       "3       id2150126    1017.616895\n",
       "4       id1598245     429.000618\n",
       "...           ...            ...\n",
       "625129  id3008929     380.426935\n",
       "625130  id3700764    1290.492025\n",
       "625131  id2568735    1545.446989\n",
       "625132  id1384355    2077.156820\n",
       "625133  id0621643    1250.492334\n",
       "\n",
       "[625134 rows x 2 columns]"
      ]
     },
     "execution_count": 59,
     "metadata": {},
     "output_type": "execute_result"
    }
   ],
   "source": [
    "submission"
   ]
  },
  {
   "cell_type": "code",
   "execution_count": 60,
   "id": "5e6a70df",
   "metadata": {
    "execution": {
     "iopub.execute_input": "2021-09-06T02:12:05.948524Z",
     "iopub.status.busy": "2021-09-06T02:12:05.948278Z",
     "iopub.status.idle": "2021-09-06T02:12:07.183398Z",
     "shell.execute_reply": "2021-09-06T02:12:07.182723Z",
     "shell.execute_reply.started": "2021-09-06T02:12:05.948498Z"
    }
   },
   "outputs": [],
   "source": [
    "submission.to_csv(\"sub.csv\", index=False)"
   ]
  },
  {
   "cell_type": "markdown",
   "id": "bd66dc33",
   "metadata": {},
   "source": [
    "# LightGBM Comparison"
   ]
  },
  {
   "cell_type": "code",
   "execution_count": 33,
   "id": "dca7e746",
   "metadata": {
    "execution": {
     "iopub.execute_input": "2021-09-06T18:56:58.535199Z",
     "iopub.status.busy": "2021-09-06T18:56:58.534951Z",
     "iopub.status.idle": "2021-09-06T18:57:00.866826Z",
     "shell.execute_reply": "2021-09-06T18:57:00.866105Z",
     "shell.execute_reply.started": "2021-09-06T18:56:58.535175Z"
    }
   },
   "outputs": [],
   "source": [
    "!pip install -q lightgbm"
   ]
  },
  {
   "cell_type": "code",
   "execution_count": 64,
   "id": "953576df",
   "metadata": {
    "execution": {
     "iopub.execute_input": "2021-09-06T02:20:21.011078Z",
     "iopub.status.busy": "2021-09-06T02:20:21.010907Z",
     "iopub.status.idle": "2021-09-06T02:20:21.282771Z",
     "shell.execute_reply": "2021-09-06T02:20:21.282217Z",
     "shell.execute_reply.started": "2021-09-06T02:20:21.011056Z"
    }
   },
   "outputs": [],
   "source": [
    "import lightgbm as lgb"
   ]
  },
  {
   "cell_type": "code",
   "execution_count": 78,
   "id": "bd35f3df",
   "metadata": {
    "execution": {
     "iopub.execute_input": "2021-09-06T02:29:30.460243Z",
     "iopub.status.busy": "2021-09-06T02:29:30.460016Z",
     "iopub.status.idle": "2021-09-06T02:29:30.463301Z",
     "shell.execute_reply": "2021-09-06T02:29:30.462745Z",
     "shell.execute_reply.started": "2021-09-06T02:29:30.460222Z"
    }
   },
   "outputs": [],
   "source": [
    "lgb_params = {\n",
    "    #'metric' : 'rmse',\n",
    "    'learning_rate': 0.1,\n",
    "    'max_depth': 25,\n",
    "    'num_leaves': 1000, \n",
    "    'objective': 'regression',\n",
    "    'feature_fraction': 0.9,\n",
    "    'bagging_fraction': 0.5,\n",
    "    'max_bin': 1000 }"
   ]
  },
  {
   "cell_type": "code",
   "execution_count": 79,
   "id": "46f6050e",
   "metadata": {
    "execution": {
     "iopub.execute_input": "2021-09-06T02:29:30.905761Z",
     "iopub.status.busy": "2021-09-06T02:29:30.905561Z",
     "iopub.status.idle": "2021-09-06T02:32:11.002618Z",
     "shell.execute_reply": "2021-09-06T02:32:11.001927Z",
     "shell.execute_reply.started": "2021-09-06T02:29:30.905741Z"
    }
   },
   "outputs": [
    {
     "name": "stdout",
     "output_type": "stream",
     "text": [
      "[LightGBM] [Warning] Auto-choosing row-wise multi-threading, the overhead of testing was 0.032628 seconds.\n",
      "You can set `force_row_wise=true` to remove the overhead.\n",
      "And if memory is not enough, you can set `force_col_wise=true`.\n",
      "[LightGBM] [Info] Total Bins 6999\n",
      "[LightGBM] [Info] Number of data points in the train set: 1454798, number of used features: 14\n",
      "[LightGBM] [Info] Start training from score 6.455151\n"
     ]
    }
   ],
   "source": [
    "lgb_df = lgb.Dataset(train[feature_columns].astype(float), train[target_column])\n",
    "lgb_model = lgb.train(lgb_params, lgb_df, num_boost_round=1500)"
   ]
  },
  {
   "cell_type": "code",
   "execution_count": 80,
   "id": "278f267e",
   "metadata": {
    "execution": {
     "iopub.execute_input": "2021-09-06T02:32:11.003933Z",
     "iopub.status.busy": "2021-09-06T02:32:11.003738Z",
     "iopub.status.idle": "2021-09-06T02:33:26.757382Z",
     "shell.execute_reply": "2021-09-06T02:33:26.756808Z",
     "shell.execute_reply.started": "2021-09-06T02:32:11.003913Z"
    }
   },
   "outputs": [],
   "source": [
    "predictions = lgb_model.predict(test[feature_columns].astype(float))"
   ]
  },
  {
   "cell_type": "code",
   "execution_count": 81,
   "id": "f917801a",
   "metadata": {
    "execution": {
     "iopub.execute_input": "2021-09-06T02:33:26.759091Z",
     "iopub.status.busy": "2021-09-06T02:33:26.758817Z",
     "iopub.status.idle": "2021-09-06T02:33:26.775447Z",
     "shell.execute_reply": "2021-09-06T02:33:26.774763Z",
     "shell.execute_reply.started": "2021-09-06T02:33:26.759058Z"
    }
   },
   "outputs": [
    {
     "data": {
      "text/html": [
       "<div>\n",
       "<style scoped>\n",
       "    .dataframe tbody tr th:only-of-type {\n",
       "        vertical-align: middle;\n",
       "    }\n",
       "\n",
       "    .dataframe tbody tr th {\n",
       "        vertical-align: top;\n",
       "    }\n",
       "\n",
       "    .dataframe thead th {\n",
       "        text-align: right;\n",
       "    }\n",
       "</style>\n",
       "<table border=\"1\" class=\"dataframe\">\n",
       "  <thead>\n",
       "    <tr style=\"text-align: right;\">\n",
       "      <th></th>\n",
       "      <th>id</th>\n",
       "      <th>trip_duration</th>\n",
       "    </tr>\n",
       "  </thead>\n",
       "  <tbody>\n",
       "    <tr>\n",
       "      <th>0</th>\n",
       "      <td>id3004672</td>\n",
       "      <td>784.330456</td>\n",
       "    </tr>\n",
       "    <tr>\n",
       "      <th>1</th>\n",
       "      <td>id3505355</td>\n",
       "      <td>583.730802</td>\n",
       "    </tr>\n",
       "    <tr>\n",
       "      <th>2</th>\n",
       "      <td>id1217141</td>\n",
       "      <td>472.631546</td>\n",
       "    </tr>\n",
       "    <tr>\n",
       "      <th>3</th>\n",
       "      <td>id2150126</td>\n",
       "      <td>864.395165</td>\n",
       "    </tr>\n",
       "    <tr>\n",
       "      <th>4</th>\n",
       "      <td>id1598245</td>\n",
       "      <td>375.591418</td>\n",
       "    </tr>\n",
       "  </tbody>\n",
       "</table>\n",
       "</div>"
      ],
      "text/plain": [
       "          id  trip_duration\n",
       "0  id3004672     784.330456\n",
       "1  id3505355     583.730802\n",
       "2  id1217141     472.631546\n",
       "3  id2150126     864.395165\n",
       "4  id1598245     375.591418"
      ]
     },
     "execution_count": 81,
     "metadata": {},
     "output_type": "execute_result"
    }
   ],
   "source": [
    "submission = pd.DataFrame({'id': test.id, 'trip_duration': np.exp(predictions)})\n",
    "submission.head()"
   ]
  },
  {
   "cell_type": "code",
   "execution_count": 82,
   "id": "a34e17f2",
   "metadata": {
    "execution": {
     "iopub.execute_input": "2021-09-06T02:34:07.811718Z",
     "iopub.status.busy": "2021-09-06T02:34:07.811488Z",
     "iopub.status.idle": "2021-09-06T02:34:09.003931Z",
     "shell.execute_reply": "2021-09-06T02:34:09.003328Z",
     "shell.execute_reply.started": "2021-09-06T02:34:07.811697Z"
    }
   },
   "outputs": [],
   "source": [
    "submission.to_csv(\"sub2.csv\", index=False)"
   ]
  }
 ],
 "metadata": {
  "kernelspec": {
   "display_name": "saturn (Python 3)",
   "language": "python",
   "name": "python3"
  },
  "language_info": {
   "codemirror_mode": {
    "name": "ipython",
    "version": 3
   },
   "file_extension": ".py",
   "mimetype": "text/x-python",
   "name": "python",
   "nbconvert_exporter": "python",
   "pygments_lexer": "ipython3",
   "version": "3.9.5"
  }
 },
 "nbformat": 4,
 "nbformat_minor": 5
}
